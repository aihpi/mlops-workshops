{
 "cells": [
  {
   "cell_type": "markdown",
   "id": "611c2b01-cdf3-415e-b77c-b428945c3787",
   "metadata": {},
   "source": [
    "# AI Service MLOPs Series: Docker\n",
    "## About us\n",
    "\n",
    "Welcome to the MLOps Series taught by AI Services from the Hasso-Plattner-Institute. We are a publicly funded project supported by the BMBF (Ministry for Education and Research). Visit [our website](https://hpi.de/kisz) to learn more about our offerings and join our [AI Maker Community on Slack](https://join.aimaker.community) to keep track of our weekly workshops and paper readings.\n",
    "\n",
    "## About the series\n",
    "In this series of workshops we dive into the basics of Docker and try to give an intuitive understanding about how it can be used. As the series progresses, we will demonstrate how Docker can be used for ML projects for local development and for serving models using an API.\n",
    "\n",
    "# AI Service MLOPs Series: Docker\n",
    "## About us\n",
    "\n",
    "Welcome to the MLOps Series taught by AI Services from the Hasso-Plattner-Institute. We are a publicly funded project supported by the BMBF (Federal Ministry of Education and Research). Visit [our website](https://hpi.de/kisz) to learn more about our offerings and join our [AI Maker Community on Slack](https://join.aimaker.community) to keep track of our weekly workshops and paper readings.\n",
    "\n",
    "## About the series\n",
    "In this series of workshops we dive into the basics of Docker and try to give an intuitive understanding about how it can be used. As the series progresses, we will demonstrate how Docker can be used for ML projects for local development and for serving models using an API.\n",
    "\n",
    "## Part 2 - Dockerfiles & Build\n",
    "### Learning Goals\n",
    "After completing this part, you should ideally be able to answer the following questions:\n",
    "\n",
    "- 🔨 How can I write a Dockerfile?\n",
    "- ♻️ Why does caching matter in Docker build processes?\n",
    " \n",
    "### Introduction\n",
    "![](images/01.png)\n",
    "\n",
    "![](images/02.png)"
   ]
  },
  {
   "cell_type": "code",
   "execution_count": 10,
   "id": "059c10f4-6b81-4e8e-91fb-52b7cdc5853f",
   "metadata": {},
   "outputs": [
    {
     "name": "stdout",
     "output_type": "stream",
     "text": [
      "The predicted language of 'Guten Tag' is German\n"
     ]
    }
   ],
   "source": [
    "!python3 predict.py \"Guten Tag\""
   ]
  },
  {
   "cell_type": "code",
   "execution_count": 9,
   "id": "19632e0d-b776-499e-8b91-72f87d60cade",
   "metadata": {},
   "outputs": [
    {
     "name": "stderr",
     "output_type": "stream",
     "text": [
      "#0 building with \"default\" instance using docker driver\n",
      "\n",
      "#1 [internal] load build definition from Dockerfile\n",
      "#1 transferring dockerfile: 678B done\n",
      "#1 DONE 0.0s\n",
      "\n",
      "#2 [internal] load metadata for docker.io/library/python:3.11-slim\n",
      "#2 DONE 0.0s\n",
      "\n",
      "#3 [internal] load .dockerignore\n",
      "#3 transferring context: 2B done\n",
      "#3 DONE 0.0s\n",
      "\n",
      "#4 [1/6] FROM docker.io/library/python:3.11-slim\n",
      "#4 DONE 0.0s\n",
      "\n",
      "#5 [internal] load build context\n",
      "#5 transferring context: 158B done\n",
      "#5 DONE 0.0s\n",
      "\n",
      "#6 [2/6] WORKDIR /app\n",
      "#6 CACHED\n",
      "\n",
      "#7 [3/6] COPY requirements.txt .\n",
      "#7 CACHED\n",
      "\n",
      "#8 [4/6] RUN pip install --no-cache -r requirements.txt\n",
      "#8 CACHED\n",
      "\n",
      "#9 [5/6] COPY models models\n",
      "#9 CACHED\n",
      "\n",
      "#10 [6/6] COPY predict.py .\n",
      "#10 CACHED\n",
      "\n",
      "#11 exporting to image\n",
      "#11 exporting layers done\n",
      "#11 writing image sha256:cf8c0731e490687807f3bc0995cd394304acc9bc91c8b9f86e4ab3a574f79d5f done\n",
      "#11 naming to docker.io/library/language-detection-model:solution-0.1 done\n",
      "#11 DONE 0.0s\n"
     ]
    },
    {
     "name": "stdout",
     "output_type": "stream",
     "text": [
      "The predicted language of 'Guten Tag' is German\n"
     ]
    }
   ],
   "source": [
    "%%bash\n",
    "\n",
    "docker build -t language-detection-model:0.1 .\n",
    "docker run --rm language-detection-model:0.1 \"Guten Tag\"\n",
    "\n",
    "# docker build -t language-detection-model:solution-0.1 -f solution/Dockerfile .\n",
    "# docker run --rm language-detection-model:solution-0.1 \"Guten Tag\""
   ]
  },
  {
   "cell_type": "code",
   "execution_count": null,
   "id": "5f33190f-4a03-416e-9a47-6b644fcd1b15",
   "metadata": {},
   "outputs": [],
   "source": []
  }
 ],
 "metadata": {
  "kernelspec": {
   "display_name": "Python 3 (ipykernel)",
   "language": "python",
   "name": "python3"
  },
  "language_info": {
   "codemirror_mode": {
    "name": "ipython",
    "version": 3
   },
   "file_extension": ".py",
   "mimetype": "text/x-python",
   "name": "python",
   "nbconvert_exporter": "python",
   "pygments_lexer": "ipython3",
   "version": "3.11.8"
  }
 },
 "nbformat": 4,
 "nbformat_minor": 5
}
