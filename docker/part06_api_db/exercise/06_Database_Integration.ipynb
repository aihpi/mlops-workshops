{
 "cells": [
  {
   "cell_type": "markdown",
   "id": "385952a1-a33a-40b8-b661-33ba560ec312",
   "metadata": {},
   "source": [
    "# AI Service MLOPs Series: Docker\n",
    "## About us\n",
    "\n",
    "Welcome to the MLOps Series taught by AI Services from the Hasso-Plattner-Institute. We are a publicly funded project supported by the BMBF (Federal Ministry of Education and Research). Visit [our website](https://hpi.de/kisz) to learn more about our offerings and join our [AI Maker Community on Slack](https://join.aimaker.community) to keep track of our weekly workshops and paper readings.\n",
    "\n",
    "## About the series\n",
    "In this series of workshops we dive into the basics of Docker and try to give an intuitive understanding about how it can be used. As the series progresses, we will demonstrate how Docker can be used for ML projects for local development and for serving models using an API.\n",
    "\n",
    "## Part 6 - Database Integrations\n",
    "### Learning Goals\n",
    "After completing this part, you should ideally be able to answer the following questions:\n",
    "\n",
    "- 📖 How can I connect services in my compose?\n",
    "- 🌐 How can I connect my API to database?\n",
    "- 🤓 How can I test my API?"
   ]
  },
  {
   "cell_type": "code",
   "execution_count": 12,
   "id": "60c22253-8b7a-4c3e-9f08-b45388b42c58",
   "metadata": {},
   "outputs": [
    {
     "name": "stdout",
     "output_type": "stream",
     "text": [
      "Application: https://mlops.aihpi.de/user/test/proxy/8300/\n",
      "Swagger Docs: https://mlops.aihpi.de/user/test/proxy/8300/docs\n",
      "OpenAPI Docs: https://mlops.aihpi.de/user/test/proxy/8300/redoc\n"
     ]
    },
    {
     "name": "stderr",
     "output_type": "stream",
     "text": [
      " api Pulling \n",
      " api Warning pull access denied for language-detection-api, repository does not exist or may require 'docker login': denied: requested access to the resource is denied\n"
     ]
    },
    {
     "name": "stdout",
     "output_type": "stream",
     "text": [
      "#0 building with \"default\" instance using docker driver\n",
      "\n",
      "#1 [api internal] load build definition from Dockerfile\n",
      "#1 transferring dockerfile: 1.05kB done\n",
      "#1 DONE 0.0s\n",
      "\n",
      "#2 [api internal] load metadata for docker.io/library/python:3.11-slim\n",
      "#2 DONE 0.8s\n",
      "\n",
      "#3 [api internal] load .dockerignore\n",
      "#3 transferring context: 2B done\n",
      "#3 DONE 0.0s\n",
      "\n",
      "#4 [api 1/7] FROM docker.io/library/python:3.11-slim@sha256:dad770592ab3582ab2dabcf0e18a863df9d86bd9d23efcfa614110ce49ac20e4\n",
      "#4 DONE 0.0s\n",
      "\n",
      "#5 [api internal] load build context\n",
      "#5 transferring context: 8.15kB done\n",
      "#5 DONE 0.0s\n",
      "\n",
      "#6 [api 4/7] RUN pip install -r requirements.txt\n",
      "#6 CACHED\n",
      "\n",
      "#7 [api 2/7] WORKDIR /app\n",
      "#7 CACHED\n",
      "\n",
      "#8 [api 3/7] COPY requirements.txt .\n",
      "#8 CACHED\n",
      "\n",
      "#9 [api 5/7] COPY api.py .\n",
      "#9 CACHED\n",
      "\n",
      "#10 [api 6/7] COPY static static\n",
      "#10 DONE 0.0s\n",
      "\n",
      "#11 [api 7/7] COPY models models\n",
      "#11 DONE 0.1s\n",
      "\n",
      "#12 [api] exporting to image\n",
      "#12 exporting layers\n",
      "#12 exporting layers 0.9s done\n",
      "#12 writing image sha256:640142561a51eb132781c996e32b9952cf3d4235983ba6be057cf7b3fbc9496a done\n",
      "#12 naming to docker.io/library/language-detection-api:solution-0.3 done\n",
      "#12 DONE 0.9s\n"
     ]
    },
    {
     "name": "stderr",
     "output_type": "stream",
     "text": [
      " Container solution-database-1  Recreate\n",
      " Container solution-database-1  Recreated\n",
      " Container solution-api-1  Recreate\n",
      " Container solution-api-1  Recreated\n",
      " Container solution-database-1  Starting\n",
      " Container solution-database-1  Started\n",
      " Container solution-api-1  Starting\n",
      " Container solution-api-1  Started\n"
     ]
    }
   ],
   "source": [
    "%%bash\n",
    "\n",
    "export HOST=https://mlops.aihpi.de\n",
    "export ROOT_PATH=/user/${JUPYTERHUB_USER}/proxy/8301/\n",
    "echo \"Application: ${HOST}${ROOT_PATH}\"\n",
    "echo \"Swagger Docs: ${HOST}${ROOT_PATH}docs\"\n",
    "echo \"OpenAPI Docs: ${HOST}${ROOT_PATH}redoc\"\n",
    "docker compose up -d"
   ]
  },
  {
   "cell_type": "code",
   "execution_count": 6,
   "id": "22d181b0-a654-43ee-b01b-dbd88c1a916c",
   "metadata": {},
   "outputs": [
    {
     "name": "stdout",
     "output_type": "stream",
     "text": [
      "{\"message\":\"Feedback created or updated successfully\"}"
     ]
    }
   ],
   "source": [
    "!curl \\\n",
    "  -H 'Content-Type: application/json' \\\n",
    "  -d '{\"text\": \"Hallo\", \"language\": \"German\", \"correct\": true}' \\\n",
    "  -X POST \\\n",
    "  http://localhost:8301/feedback"
   ]
  },
  {
   "cell_type": "code",
   "execution_count": 7,
   "id": "4e717a6d-c6f7-4cd2-8c10-3837ce58477e",
   "metadata": {},
   "outputs": [
    {
     "name": "stdout",
     "output_type": "stream",
     "text": [
      "[{\"text\":\"Hallo\",\"language\":\"Dutch\",\"correct\":false},{\"text\":\"Hallo\",\"language\":\"German\",\"correct\":true}]"
     ]
    }
   ],
   "source": [
    "!curl http://localhost:8301/feedback"
   ]
  },
  {
   "cell_type": "code",
   "execution_count": 11,
   "id": "a3c1ad24-6b07-4d91-b2b3-a7c2544d291b",
   "metadata": {},
   "outputs": [
    {
     "name": "stdout",
     "output_type": "stream",
     "text": [
      "    text language  correct\n",
      "0  Hallo    Dutch    False\n",
      "1  Hallo   German     True\n"
     ]
    }
   ],
   "source": [
    "import requests\n",
    "import pandas as pd\n",
    "\n",
    "# The API endpoint\n",
    "url = \"http://localhost:8301/feedback\"\n",
    "json_data = requests.get(url).json()\n",
    "table_data = pd.DataFrame.from_records(json_data)\n",
    "print(table_data)"
   ]
  },
  {
   "cell_type": "markdown",
   "id": "35c8e824-2577-4978-828b-d6a716aff30b",
   "metadata": {},
   "source": [
    "---"
   ]
  }
 ],
 "metadata": {
  "kernelspec": {
   "display_name": "Python 3 (ipykernel)",
   "language": "python",
   "name": "python3"
  },
  "language_info": {
   "codemirror_mode": {
    "name": "ipython",
    "version": 3
   },
   "file_extension": ".py",
   "mimetype": "text/x-python",
   "name": "python",
   "nbconvert_exporter": "python",
   "pygments_lexer": "ipython3",
   "version": "3.11.8"
  }
 },
 "nbformat": 4,
 "nbformat_minor": 5
}
