{
 "cells": [
  {
   "cell_type": "markdown",
   "id": "385952a1-a33a-40b8-b661-33ba560ec312",
   "metadata": {},
   "source": [
    "# AI Service MLOPs Series: Docker\n",
    "## About us\n",
    "\n",
    "Welcome to the MLOps Series taught by AI Services from the Hasso-Plattner-Institute. We are a publicly funded project supported by the BMBF (Federal Ministry of Education and Research). Visit [our website](https://hpi.de/kisz) to learn more about our offerings and join our [AI Maker Community on Slack](https://join.aimaker.community) to keep track of our weekly workshops and paper readings.\n",
    "\n",
    "## About the series\n",
    "In this series of workshops we dive into the basics of Docker and try to give an intuitive understanding about how it can be used. As the series progresses, we will demonstrate how Docker can be used for ML projects for local development and for serving models using an API.\n",
    "\n",
    "## Part 1 - Containers and Images!?\n",
    "### Learning Goals\n",
    "After completing this part, you should ideally be able to answer the following questions:\n",
    "\n",
    "- 💿 What is the difference between images and containers?\n",
    "- 🌎 Where can I get docker images? What are registries?\n",
    "- 👨‍💻 What are essential terminal commands for managing docker images and containers?\n",
    " \n",
    "### Introduction\n",
    "\n",
    "Imagine a smaller development team where it can be difficult to account for all the different configurations that developers might have. For example, one developer may be using Python 3.8 for their projects, while other developers may be using Python 3.11. Moreover, in large projects with many dependencies, the risk of version conflicts and unexpected bugs is high.\n",
    "\n",
    "Docker can help reduce the source of these errors. Rather than assuming chaotic environments where important libraries may be missing, Docker provides a way to effectively create blueprints or step-by-step instructions for what applications need to go from code to a working application.\n",
    "\n",
    "![](images/01.png)\n",
    "\n",
    "These instructions are like code that can be compiled into a *docker image* that can be shared with other developers to reduce individual build times. It also helps with the common problem of \"This application doesn't work on your machine? It runs on my machine!\". This common phrase also mentions the keyword \"*runs*\". When we create and start containers, we *run* them. Images, on the other hand, are not something we can \"run\"; instead, we create new containers *from* images.\n",
    "\n",
    "Images are effectively like an application that has been burned onto a virtual disk. Containers can be thought of as virtual disk drives into which we can insert our images. Each container can run in its own isolated environment and be kept separate from other containers running on the same underlying system.\n",
    "\n",
    "![](images/02.png)\n",
    "\n",
    "However, as mentioned above, to have containers we need images, but how do we get images? This is where the concept of a *Dockerfile* comes in. It allows us to define step-by-step instructions like \"install this\" or \"apply this setting\" that Docker can use to *build* images. For example, a Dockerfile might provide instructions like this:\n",
    "\n",
    "1. I want to start with a system that has Python 3.11 installed: `FROM python:3.11`.\n",
    "2. I want to install the pandas and scikit-learn packages: `RUN pip install pandas scikit-learn`.\n",
    "3. I want my Python script `test.py` to be available: `COPY test.py /app/test.py`.\n",
    "4. The default command that runs when the container is started is my script `test.py`: `CMD [\"python3\",\"/app/test.py\"]`.\n",
    "\n",
    "\n",
    "![](images/04.png)\n",
    "\n",
    "### This kind of sounds like a virtual machine?\n",
    "The ideas behind Docker containers are similar to the idea of virtual machines, but [Docker containers are more lightweight](https://www.backblaze.com/blog/vm-vs-containers/)! The main disadvantage compared to virtual machines is the dependency on the underlying operating system architecture. Docker images need to be built for the same architecture (e.g. ARM vs. x86 architecture), which can require special handling when building images and thus add a layer of complexity."
   ]
  },
  {
   "cell_type": "markdown",
   "id": "e1db7158-4165-40d8-893e-46d37c90acee",
   "metadata": {},
   "source": [
    "### Hands-On: Hello World with Docker\n",
    "\n",
    "As a heads-up, to execute commands in the terminal from within the Jupyter notebook, we can prefix lines with an exclamation mark `!`. However, it is highly recommended to type and execute your commands in the terminal instead. You can open a new one with \"File > New > Terminal\" in the top menu bar. You will also need to navigate to the correct working directory with `cd ~/work/mlops/docker/part01`.\n",
    "\n",
    "Now let us experiment with a small test Docker image! A common example is the `hello-world' image. It outputs the list of steps taken to ...\n",
    "\n",
    "1. Get the image. \n",
    "2. Create and start the container.\n",
    "3. Print the output to the terminal.\n",
    "\n",
    "We will use the `docker run [IMAGE_NAME]` command to create and start the container. "
   ]
  },
  {
   "cell_type": "code",
   "execution_count": 11,
   "id": "c09b991e-3098-46ab-9538-12284555c4fd",
   "metadata": {},
   "outputs": [
    {
     "name": "stdout",
     "output_type": "stream",
     "text": [
      "\n",
      "Hello from Docker!\n",
      "This message shows that your installation appears to be working correctly.\n",
      "\n",
      "To generate this message, Docker took the following steps:\n",
      " 1. The Docker client contacted the Docker daemon.\n",
      " 2. The Docker daemon pulled the \"hello-world\" image from the Docker Hub.\n",
      "    (amd64)\n",
      " 3. The Docker daemon created a new container from that image which runs the\n",
      "    executable that produces the output you are currently reading.\n",
      " 4. The Docker daemon streamed that output to the Docker client, which sent it\n",
      "    to your terminal.\n",
      "\n",
      "To try something more ambitious, you can run an Ubuntu container with:\n",
      " $ docker run -it ubuntu bash\n",
      "\n",
      "Share images, automate workflows, and more with a free Docker ID:\n",
      " https://hub.docker.com/\n",
      "\n",
      "For more examples and ideas, visit:\n",
      " https://docs.docker.com/get-started/\n",
      "\n"
     ]
    }
   ],
   "source": [
    "!docker run hello-world"
   ]
  },
  {
   "cell_type": "markdown",
   "id": "0b85a358-1fa3-42b0-895c-edcac8c71750",
   "metadata": {},
   "source": [
    "### Hands-On: Hello World with Docker\n",
    "\n",
    "The `docker run [IMAGE_NAME]` command we just ran had to download the `hello-world` image before it could create the container. This is because Docker did not pre-install any images on our system. The image is actually downloaded from a *Registry*. The most popular and default registry is [Docker Hub](https://hub.docker.com/), but the Docker client supports other registries as well. These can be either other public registries (e.g. [quay.io](https://quay.io/)) or restricted private registries (e.g. repositories associated with GitHub or GitLab repositories).\n",
    "\n",
    "What's interesting here is that we can not only *pull* or download images, we can also *push* or upload images! This allows us to share images with other developers. Anyone can create their own repository in Docker registries to share their own Docker images!\n",
    "\n",
    "![](images/05.png)\n",
    "\n",
    "If you [search for images on Docker Hub](https://hub.docker.com/search?image_filter=official&type=image&q=), you can see the most popular repositories offer minimal installations of operating systems like `ubuntu`, development tools like `python`, or databases like `mysql`. Especially at larger scales this provides immense value and saves us from wasting valuable computing resources.\n",
    "\n",
    "![](images/03.png)\n",
    "\n",
    "As a side note, the output here mentions a \"daemon\". This is effectively the privileged Docker process running in the background, doing everything we expect Docker to do. The \"client\" mentioned here is effectively just sending the commands we use to tell Docker what to do. If you are interested in going a bit deeper in this case, check out [Docker's official blog on this topic](https://www.docker.com/blog/containerd-vs-docker/)!\n",
    "\n",
    "### Hands-On: Hello World with Docker\n",
    "We can also have a look at the image we just downloaded by listing our images with `docker image ls`:"
   ]
  },
  {
   "cell_type": "code",
   "execution_count": 12,
   "id": "3113d3cd-4027-40cc-86bc-011bcc7fe1ef",
   "metadata": {},
   "outputs": [
    {
     "name": "stdout",
     "output_type": "stream",
     "text": [
      "REPOSITORY    TAG         IMAGE ID       CREATED         SIZE\n",
      "python        3.11-slim   c516402fec78   12 days ago     131MB\n",
      "hello-world   latest      d2c94e258dcb   11 months ago   13.3kB\n"
     ]
    }
   ],
   "source": [
    "!docker image ls"
   ]
  },
  {
   "cell_type": "markdown",
   "id": "0a4b3fe0-87e5-4bf4-8771-6ee7fbe27bb1",
   "metadata": {},
   "source": [
    "### Hands-On: Hello World with Docker\n",
    "... and we can use `docker container ps` or just `docker ps` to list our running containers. However, \"running\" is not the only state containers can be in. For example, they can be in \"created\" or \"exited\" states. \n",
    "\n",
    "After the `docker run hello-world` command created and started the container, and finished running it, the container was stopped, but not removed. We can add the `--all` flag (or `--a`) to `docker ps` to also show exited containers."
   ]
  },
  {
   "cell_type": "code",
   "execution_count": 14,
   "id": "4f9dd958-31e0-4225-9947-743f30b29482",
   "metadata": {},
   "outputs": [
    {
     "name": "stdout",
     "output_type": "stream",
     "text": [
      "CONTAINER ID   IMAGE         COMMAND    CREATED         STATUS                     PORTS     NAMES\n",
      "c2bac7c6b8cb   hello-world   \"/hello\"   7 minutes ago   Exited (0) 7 minutes ago             musing_greider\n"
     ]
    }
   ],
   "source": [
    "## We can use 'docker ps' to list all containers\n",
    "## > long version: docker container ps\n",
    "!docker ps --all"
   ]
  },
  {
   "cell_type": "markdown",
   "id": "bcf68296-09e5-4b2f-9ee4-790d7d9a2702",
   "metadata": {},
   "source": [
    "### Hands-On: Hello World with Docker\n",
    "Since we no longer need this container, we can simply remove it. If we have been playing around with Docker a lot and want to clean up resources, we can use \"prune\" commands. A simple one is `docker system prune` (with the `--force` flag in this case, since we cannot confirm with a \"y\" input from within the Jupyter notebook)."
   ]
  },
  {
   "cell_type": "code",
   "execution_count": 15,
   "id": "f90a81d6-7d34-48bc-88ce-1207c845d0f4",
   "metadata": {},
   "outputs": [
    {
     "name": "stdout",
     "output_type": "stream",
     "text": [
      "Deleted Containers:\n",
      "c2bac7c6b8cb7a82edcf39ae603394ec01e8046d25aa276ab75b0f5444265890\n",
      "\n",
      "Total reclaimed space: 0B\n",
      "CONTAINER ID   IMAGE     COMMAND   CREATED   STATUS    PORTS     NAMES\n"
     ]
    }
   ],
   "source": [
    "# alternatively, we can also use the following commands to remove specific containers:\n",
    "# - docker container rm [CONTAINER_ID]\n",
    "# - docker container rm [CONTAINER_NAME]\n",
    "!docker system prune --force\n",
    "!docker ps --all"
   ]
  },
  {
   "cell_type": "markdown",
   "id": "cee193d5-336c-4917-9697-12224a0e34ca",
   "metadata": {},
   "source": [
    "### Hands-On: Hello World with Docker\n",
    "We can also clean up images by adding the `--all` to our prune command!"
   ]
  },
  {
   "cell_type": "code",
   "execution_count": 20,
   "id": "8e76b3c3-a327-4bae-a3b7-f651e3b696fb",
   "metadata": {},
   "outputs": [
    {
     "name": "stdout",
     "output_type": "stream",
     "text": [
      "Deleted Images:\n",
      "untagged: hello-world:latest\n",
      "untagged: hello-world@sha256:03b30c6a3c320ff172b52bd68eddffde6ded08ce47e650fe52de861c5e9df46d\n",
      "deleted: sha256:d2c94e258dcb3c5ac2798d32e1249e42ef01cba4841c2234249495f87264ac5a\n",
      "deleted: sha256:ac28800ec8bb38d5c35b49d45a6ac4777544941199075dff8c4eb63e093aa81e\n",
      "\n",
      "Total reclaimed space: 13.26kB\n",
      "REPOSITORY   TAG       IMAGE ID   CREATED   SIZE\n"
     ]
    }
   ],
   "source": [
    "!docker system prune --all --force\n",
    "!docker image ls"
   ]
  },
  {
   "cell_type": "markdown",
   "id": "542b945b-9605-4491-a7cc-04fabb74db64",
   "metadata": {},
   "source": [
    "### Hands-On: Hello World with Docker\n",
    "When pulling an image we can see that in addition to the `hello-world` image name, it also has the `latest` tag next to it. This tag is effectively a versioning system for Docker images. If not specified, Docker will simply fetch `latest` by default.\n",
    "\n",
    "However, in real-world scenarios, it is important to always be careful when choosing the version. Even with Docker, we could run into versioning conflicts here, as we may have different Docker containers that we want to interact with.\n",
    "\n",
    "We are also able to manage our images manually, rather than having them automatically pulled in the background. For example, we can use `docker image pull [IMAGE_NAME]:[IMAGE_TAG]` or just `docker pull [IMAGE_NAME]` to download the image we just removed."
   ]
  },
  {
   "cell_type": "code",
   "execution_count": 21,
   "id": "56bd4518-19ca-4edc-843b-26bddf4aba66",
   "metadata": {},
   "outputs": [
    {
     "name": "stdout",
     "output_type": "stream",
     "text": [
      "Using default tag: latest\n",
      "latest: Pulling from library/hello-world\n",
      "\n",
      "\u001b[1BDigest: sha256:03b30c6a3c320ff172b52bd68eddffde6ded08ce47e650fe52de861c5e9df46d\n",
      "Status: Downloaded newer image for hello-world:latest\n",
      "docker.io/library/hello-world:latest\n"
     ]
    }
   ],
   "source": [
    "!docker pull hello-world"
   ]
  },
  {
   "cell_type": "markdown",
   "id": "ac166caa-653c-44e4-97c2-1638af266d3d",
   "metadata": {},
   "source": [
    "### Hands-On: Hello World with Docker\n",
    "\n",
    "Let's try to understand the `docker run [IMAGE_NAME]` command from earlier a little better. This time we are going to create and start the container manually. We can also name our container with the `--name` option when we create it, so we can easily refer to it later without having to look up the container ID."
   ]
  },
  {
   "cell_type": "code",
   "execution_count": 38,
   "id": "f56743f1-0b38-4e92-8f18-9656002a1666",
   "metadata": {},
   "outputs": [
    {
     "name": "stdout",
     "output_type": "stream",
     "text": [
      "ec1a09c2ec3046573104109da49a9cf319d8abdde20f1c3daf7ee47bbd6aba24\n",
      "CONTAINER ID   IMAGE         COMMAND    CREATED                  STATUS    PORTS     NAMES\n",
      "ec1a09c2ec30   hello-world   \"/hello\"   Less than a second ago   Created             test-container\n"
     ]
    }
   ],
   "source": [
    "# Create the container without starting it\n",
    "!docker container create --name test-container hello-world\n",
    "!docker ps -a"
   ]
  },
  {
   "cell_type": "code",
   "execution_count": 39,
   "id": "5e8df2d1-5abf-4ccd-8419-8b172050ca04",
   "metadata": {},
   "outputs": [
    {
     "name": "stdout",
     "output_type": "stream",
     "text": [
      "\n",
      "Hello from Docker!\n",
      "This message shows that your installation appears to be working correctly.\n",
      "\n",
      "To generate this message, Docker took the following steps:\n",
      " 1. The Docker client contacted the Docker daemon.\n",
      " 2. The Docker daemon pulled the \"hello-world\" image from the Docker Hub.\n",
      "    (amd64)\n",
      " 3. The Docker daemon created a new container from that image which runs the\n",
      "    executable that produces the output you are currently reading.\n",
      " 4. The Docker daemon streamed that output to the Docker client, which sent it\n",
      "    to your terminal.\n",
      "\n",
      "To try something more ambitious, you can run an Ubuntu container with:\n",
      " $ docker run -it ubuntu bash\n",
      "\n",
      "Share images, automate workflows, and more with a free Docker ID:\n",
      " https://hub.docker.com/\n",
      "\n",
      "For more examples and ideas, visit:\n",
      " https://docs.docker.com/get-started/\n",
      "\n",
      "CONTAINER ID   IMAGE         COMMAND    CREATED        STATUS                              PORTS     NAMES\n",
      "ec1a09c2ec30   hello-world   \"/hello\"   1 second ago   Exited (0) Less than a second ago             test-container\n"
     ]
    }
   ],
   "source": [
    "# Start the container in interactive mode and wait for it to finish executing\n",
    "!docker container start -i test-container\n",
    "!docker ps -a"
   ]
  },
  {
   "cell_type": "code",
   "execution_count": 40,
   "id": "f3e6f7d1-0b91-4623-995e-8df005cbcff3",
   "metadata": {},
   "outputs": [
    {
     "name": "stdout",
     "output_type": "stream",
     "text": [
      "test-container\n",
      "CONTAINER ID   IMAGE     COMMAND   CREATED   STATUS    PORTS     NAMES\n"
     ]
    }
   ],
   "source": [
    "# Remove the container\n",
    "!docker container remove test-container\n",
    "!docker ps -a"
   ]
  },
  {
   "cell_type": "markdown",
   "id": "1771b953-c078-46d3-a4bb-55f3c6fd1c2c",
   "metadata": {},
   "source": [
    "### Hands-On: Hello World with Docker\n",
    "If we want to automate the removal process after the container stops, we can simply pass the `--rm` flag. This tells Docker to clean up or remove the container after it has finished executing. If you are just playing around and do not want to debug individual containers, you usually want to add the `--rm` flag to `docker run` commands to avoid clogging up resources."
   ]
  },
  {
   "cell_type": "code",
   "execution_count": 41,
   "id": "babb005e-5870-4a4c-835b-5eb5a0ca1e0f",
   "metadata": {},
   "outputs": [
    {
     "name": "stdout",
     "output_type": "stream",
     "text": [
      "\n",
      "Hello from Docker!\n",
      "This message shows that your installation appears to be working correctly.\n",
      "\n",
      "To generate this message, Docker took the following steps:\n",
      " 1. The Docker client contacted the Docker daemon.\n",
      " 2. The Docker daemon pulled the \"hello-world\" image from the Docker Hub.\n",
      "    (amd64)\n",
      " 3. The Docker daemon created a new container from that image which runs the\n",
      "    executable that produces the output you are currently reading.\n",
      " 4. The Docker daemon streamed that output to the Docker client, which sent it\n",
      "    to your terminal.\n",
      "\n",
      "To try something more ambitious, you can run an Ubuntu container with:\n",
      " $ docker run -it ubuntu bash\n",
      "\n",
      "Share images, automate workflows, and more with a free Docker ID:\n",
      " https://hub.docker.com/\n",
      "\n",
      "For more examples and ideas, visit:\n",
      " https://docs.docker.com/get-started/\n",
      "\n",
      "CONTAINER ID   IMAGE     COMMAND   CREATED   STATUS    PORTS     NAMES\n"
     ]
    }
   ],
   "source": [
    "# Remove the container after it is finished executing\n",
    "!docker run --rm hello-world\n",
    "# should be empty!\n",
    "!docker ps -a"
   ]
  },
  {
   "cell_type": "markdown",
   "id": "3a7d9a1e-eb8f-4860-947b-d1c917a342c2",
   "metadata": {},
   "source": [
    "### Hands-On: Hello World with Docker\n",
    "To give an example for how we will be using Docker in the following parts, consider the following example:\n",
    "\n",
    "Adjacent to this notebook, there is a directory called `scripts`. This directory contains one python script file called `test.py` with the following content:\n",
    "\n",
    "```python\n",
    "print(\"Hello from test.py!\")\n",
    "\n",
    "```\n",
    "\n",
    "We want to try running this script using the `python` docker image. More specifically we want to use its `-slim` variant, which is significantly smaller (300MB less!) because it has less linux utilities included in its image."
   ]
  },
  {
   "cell_type": "code",
   "execution_count": 45,
   "id": "d14879ae-d42d-420f-8669-d13618bc7c21",
   "metadata": {},
   "outputs": [
    {
     "name": "stdout",
     "output_type": "stream",
     "text": [
      "Image: https://hub.docker.com/_/python\n",
      "Mapping the HOST path '/home/jovyan/work/mlops/docker/part01/scripts' to the path '/hello' inside the Docker container\n",
      "Hello from test.py!\n"
     ]
    }
   ],
   "source": [
    "!echo \"Image: https://hub.docker.com/_/python\"\n",
    "!echo \"Mapping the HOST path '$(pwd)/scripts' to the path '/hello' inside the Docker container\"\n",
    "!docker run --rm -v ./scripts:/hello python:3.11-slim python3 /hello/test.py"
   ]
  },
  {
   "cell_type": "code",
   "execution_count": 46,
   "id": "6df01b9f-8e68-4e4b-8b78-aeee06feb79e",
   "metadata": {},
   "outputs": [
    {
     "name": "stdout",
     "output_type": "stream",
     "text": [
      "REPOSITORY    TAG         IMAGE ID       CREATED         SIZE\n",
      "python        3.11-slim   c516402fec78   12 days ago     131MB\n",
      "hello-world   latest      d2c94e258dcb   11 months ago   13.3kB\n"
     ]
    }
   ],
   "source": [
    "!docker image ls"
   ]
  },
  {
   "cell_type": "code",
   "execution_count": null,
   "id": "905075ab-fa60-4944-ae5e-ad3ccbce8911",
   "metadata": {},
   "outputs": [],
   "source": []
  }
 ],
 "metadata": {
  "kernelspec": {
   "display_name": "Python 3 (ipykernel)",
   "language": "python",
   "name": "python3"
  },
  "language_info": {
   "codemirror_mode": {
    "name": "ipython",
    "version": 3
   },
   "file_extension": ".py",
   "mimetype": "text/x-python",
   "name": "python",
   "nbconvert_exporter": "python",
   "pygments_lexer": "ipython3",
   "version": "3.11.8"
  }
 },
 "nbformat": 4,
 "nbformat_minor": 5
}
